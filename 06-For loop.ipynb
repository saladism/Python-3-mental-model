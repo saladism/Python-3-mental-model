{
 "cells": [
  {
   "cell_type": "markdown",
   "metadata": {},
   "source": [
    "##### For loop is used to repeat a set of actions.\n",
    "##### The for loop incantation has 2 parts.\n",
    "##### First part starts with for and end with :\n",
    "##### Second part starts in the next line after a spece (by convention 4 spaces), this is called body of the incantation. It can have multiple lines in the body, each of them starting in the next line after the same number of spaces.\n",
    "Lets create a train object first."
   ]
  },
  {
   "cell_type": "code",
   "execution_count": 32,
   "metadata": {},
   "outputs": [],
   "source": [
    "fruits = ['Apple', 'Banana', 'Clementine','Dates']"
   ]
  },
  {
   "cell_type": "markdown",
   "metadata": {},
   "source": [
    "Let's do some for loops and see if you can follow what is happening in each for loop."
   ]
  },
  {
   "cell_type": "code",
   "execution_count": 33,
   "metadata": {},
   "outputs": [
    {
     "name": "stdout",
     "output_type": "stream",
     "text": [
      "Apple\n",
      "Banana\n",
      "Clementine\n",
      "Dates\n"
     ]
    }
   ],
   "source": [
    "for fruit in fruits:\n",
    "    print(fruit)"
   ]
  },
  {
   "cell_type": "code",
   "execution_count": 34,
   "metadata": {},
   "outputs": [
    {
     "name": "stdout",
     "output_type": "stream",
     "text": [
      "Apple\n",
      "Banana\n",
      "Clementine\n",
      "Dates\n"
     ]
    }
   ],
   "source": [
    "for nut in fruits:\n",
    "    print(nut)"
   ]
  },
  {
   "cell_type": "code",
   "execution_count": 35,
   "metadata": {},
   "outputs": [
    {
     "name": "stdout",
     "output_type": "stream",
     "text": [
      "Apple\n",
      "Banana\n",
      "Clementine\n",
      "Dates\n"
     ]
    }
   ],
   "source": [
    "for nothing in fruits:\n",
    "    print(nothing)"
   ]
  },
  {
   "cell_type": "code",
   "execution_count": 36,
   "metadata": {},
   "outputs": [
    {
     "name": "stdout",
     "output_type": "stream",
     "text": [
      "Godzilla\n",
      "Godzilla\n",
      "Godzilla\n",
      "Godzilla\n"
     ]
    }
   ],
   "source": [
    "for something in fruits:\n",
    "    print('Godzilla')"
   ]
  },
  {
   "cell_type": "code",
   "execution_count": 37,
   "metadata": {},
   "outputs": [
    {
     "name": "stdout",
     "output_type": "stream",
     "text": [
      "I am confused. I am confused. I am confused. \n",
      "I am confused. I am confused. I am confused. \n",
      "I am confused. I am confused. I am confused. \n",
      "I am confused. I am confused. I am confused. \n"
     ]
    }
   ],
   "source": [
    "for confused in fruits:\n",
    "    print(\"I am confused. \" * 3)"
   ]
  },
  {
   "cell_type": "code",
   "execution_count": 38,
   "metadata": {},
   "outputs": [
    {
     "name": "stdout",
     "output_type": "stream",
     "text": [
      "['Apple', 'Banana', 'Clementine', 'Dates']\n",
      "['Apple', 'Banana', 'Clementine', 'Dates']\n",
      "['Apple', 'Banana', 'Clementine', 'Dates']\n",
      "['Apple', 'Banana', 'Clementine', 'Dates']\n"
     ]
    }
   ],
   "source": [
    "for stupid in fruits:\n",
    "    print(fruits)"
   ]
  },
  {
   "cell_type": "code",
   "execution_count": 39,
   "metadata": {},
   "outputs": [],
   "source": [
    "a = 300"
   ]
  },
  {
   "cell_type": "code",
   "execution_count": 40,
   "metadata": {},
   "outputs": [
    {
     "name": "stdout",
     "output_type": "stream",
     "text": [
      "300\n",
      "300\n",
      "300\n",
      "300\n"
     ]
    }
   ],
   "source": [
    "for damn in fruits:\n",
    "    print(a)"
   ]
  },
  {
   "cell_type": "markdown",
   "metadata": {},
   "source": [
    "OH, let's take stock.\n",
    "\n",
    "Now in this realm we have 9 princesses.\n",
    "fruits is a princess holding train object with 4 carriages.\n",
    "\n",
    "fruit, nut, nothing, something, confused, stupid, damn are 6 princesses each holding the last object in the train(what they were holding at the end of the loop)\n",
    "\n",
    "a is a princess holding number object 300"
   ]
  },
  {
   "cell_type": "code",
   "execution_count": 41,
   "metadata": {},
   "outputs": [
    {
     "data": {
      "text/plain": [
       "(['Apple', 'Banana', 'Clementine', 'Dates'],\n",
       " 'Dates',\n",
       " 'Dates',\n",
       " 'Dates',\n",
       " 'Dates',\n",
       " 'Dates',\n",
       " 'Dates',\n",
       " 'Dates',\n",
       " 300)"
      ]
     },
     "execution_count": 41,
     "metadata": {},
     "output_type": "execute_result"
    }
   ],
   "source": [
    "fruits, fruit, nut, nothing, something, confused, stupid, damn, a "
   ]
  },
  {
   "cell_type": "markdown",
   "metadata": {},
   "source": [
    "## Waaait, What's happening here."
   ]
  },
  {
   "cell_type": "markdown",
   "metadata": {},
   "source": [
    "##### If you haven't understood, please read on."
   ]
  },
  {
   "cell_type": "markdown",
   "metadata": {},
   "source": [
    "Let's start again with a fresh for loop, let's check the first part\n",
    "\n",
    "for alice in fruits:\n",
    "\n",
    "Python knows what fruits is. It is a train object which is held by princess named fruits. This fruits object has 4 carraiges starting from 0, each containing a different word object starting with 'Apple'. \n",
    "\n",
    "Python does not know alice( we have used that name for the first time in this realm), so we have another princess woken up having a name alice. The princess alice needs to hold some thing, she will hold the object in the initial carraige, which is 'Apple'. Then the next line, Print(alice). That means show what princess alice is holding. "
   ]
  },
  {
   "cell_type": "markdown",
   "metadata": {},
   "source": [
    "Then body is completed.  This happens for each carriage in that coach. Princess alice first holds what is in number 0 carraige. Then leaves it and holds what is in number 1 carraige, etc etc. If it says print(alice), it shows what alice is holding."
   ]
  },
  {
   "cell_type": "markdown",
   "metadata": {},
   "source": [
    "How about if the body says print(\"I am confused. \"). Here alice is still holding the object in the carriage. The next line just has nothing to do with alice in this instance. It just asks Python to show an onject called \"I am confused. \", which it creates, shows and discards. Then goes for the next set of actions.\n",
    "Hoe that makes sense."
   ]
  },
  {
   "cell_type": "code",
   "execution_count": null,
   "metadata": {},
   "outputs": [],
   "source": []
  },
  {
   "cell_type": "markdown",
   "metadata": {},
   "source": [
    "# Future discussions"
   ]
  },
  {
   "cell_type": "code",
   "execution_count": 42,
   "metadata": {},
   "outputs": [
    {
     "name": "stdout",
     "output_type": "stream",
     "text": [
      "Kingkong! 4416590192\n",
      "Kingkong! 4416590192\n",
      "Kingkong! 4416590192\n",
      "Kingkong! 4416590192\n"
     ]
    }
   ],
   "source": [
    "for something in fruits:\n",
    "    print('Kingkong!', id('Kingkong!'))\n",
    "# Python seems to hold same word object for the entire loop"
   ]
  },
  {
   "cell_type": "code",
   "execution_count": 43,
   "metadata": {},
   "outputs": [
    {
     "name": "stdout",
     "output_type": "stream",
     "text": [
      "Ding dong! 4416103856\n",
      "Ping pong! 4420314992\n",
      "Ding dong! 4416103856\n",
      "Ping pong! 4420314992\n",
      "Ding dong! 4416103856\n",
      "Ping pong! 4420314992\n",
      "Ding dong! 4416103856\n",
      "Ping pong! 4420314992\n"
     ]
    }
   ],
   "source": [
    "for something in fruits:\n",
    "    print('Ding dong!', id('Ding dong!'))\n",
    "    print('Ping pong!', id('Ping pong!'))\n",
    "# Python seems to hold same word object for the entire loop"
   ]
  },
  {
   "cell_type": "code",
   "execution_count": 44,
   "metadata": {},
   "outputs": [
    {
     "name": "stdout",
     "output_type": "stream",
     "text": [
      "Ding dong! 4407738480\n",
      "Ping pong! 4407246448\n",
      "Ding dong! 4407738480\n",
      "Ping pong! 4407246448\n",
      "Ding dong! 4407738480\n",
      "Ping pong! 4407246448\n",
      "Ding dong! 4407738480\n",
      "Ping pong! 4407246448\n"
     ]
    }
   ],
   "source": [
    "for something in fruits:\n",
    "    print('Ding dong!', id('Ding dong!'))\n",
    "    print('Ping pong!', id('Ping pong!'))\n",
    "# Python seems to discard the old word object after the end of the loop and rebuild another one again."
   ]
  },
  {
   "cell_type": "code",
   "execution_count": null,
   "metadata": {},
   "outputs": [],
   "source": []
  },
  {
   "cell_type": "code",
   "execution_count": null,
   "metadata": {},
   "outputs": [],
   "source": []
  }
 ],
 "metadata": {
  "kernelspec": {
   "display_name": "Python 3",
   "language": "python",
   "name": "python3"
  },
  "language_info": {
   "codemirror_mode": {
    "name": "ipython",
    "version": 3
   },
   "file_extension": ".py",
   "mimetype": "text/x-python",
   "name": "python",
   "nbconvert_exporter": "python",
   "pygments_lexer": "ipython3",
   "version": "3.7.3"
  }
 },
 "nbformat": 4,
 "nbformat_minor": 2
}
