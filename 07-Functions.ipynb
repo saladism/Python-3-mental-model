{
 "cells": [
  {
   "cell_type": "markdown",
   "metadata": {},
   "source": [
    "# Functions (Magic spell boxes)"
   ]
  },
  {
   "cell_type": "markdown",
   "metadata": {},
   "source": [
    "Functions are magic spell boxes, which store their own sleeping princesses and incantations. \n",
    "You can cast the spell with ()\n",
    "\n",
    "Casting the spell with () creates it own sub realm, which disappers after the sub realm returns an object to the main realm at the end of the spell\n",
    "\n",
    "The sleeping princess in the spell box might share the same name with a princess in the main realm but they are not the same princesses.\n"
   ]
  },
  {
   "cell_type": "code",
   "execution_count": 176,
   "metadata": {},
   "outputs": [],
   "source": [
    "alice = 400\n",
    "bella = 500\n",
    "caroline = 600\n",
    "daisy = 700"
   ]
  },
  {
   "cell_type": "markdown",
   "metadata": {},
   "source": [
    "Now main realm has 4 princesses."
   ]
  },
  {
   "cell_type": "code",
   "execution_count": 177,
   "metadata": {},
   "outputs": [
    {
     "data": {
      "text/plain": [
       "(400, 500, 600, 700)"
      ]
     },
     "execution_count": 177,
     "metadata": {},
     "output_type": "execute_result"
    }
   ],
   "source": [
    "alice, bella, caroline, daisy"
   ]
  },
  {
   "cell_type": "code",
   "execution_count": 178,
   "metadata": {},
   "outputs": [],
   "source": [
    "def add(alice, bella):\n",
    "    return alice+bella"
   ]
  },
  {
   "cell_type": "markdown",
   "metadata": {},
   "source": [
    "Now the main realm has 4 princesses and 1 magic spell box called add. All are shown as below"
   ]
  },
  {
   "cell_type": "code",
   "execution_count": 179,
   "metadata": {},
   "outputs": [
    {
     "data": {
      "text/plain": [
       "(400, 500, 600, 700, <function __main__.add(alice, bella)>)"
      ]
     },
     "execution_count": 179,
     "metadata": {},
     "output_type": "execute_result"
    }
   ],
   "source": [
    "alice, bella, caroline, daisy, add"
   ]
  },
  {
   "cell_type": "markdown",
   "metadata": {},
   "source": [
    "Within the magic spell box called add we have 2 more sleeping princesses. These are not the same princesses as in main realm.\n",
    "These are a different set of alice and bella and are sleeping. They only wake up when the spell is cast.\n",
    "When the spell is cast, Genie will need to give something for the princess to hold. "
   ]
  },
  {
   "cell_type": "markdown",
   "metadata": {},
   "source": [
    "That could be objects directly such as add(1,2) or it could be objects in the main realm represented by the name of their princesses such as add(alice, bella)"
   ]
  },
  {
   "cell_type": "code",
   "execution_count": 180,
   "metadata": {},
   "outputs": [
    {
     "data": {
      "text/plain": [
       "3"
      ]
     },
     "execution_count": 180,
     "metadata": {},
     "output_type": "execute_result"
    }
   ],
   "source": [
    "add(1,2)"
   ]
  },
  {
   "cell_type": "code",
   "execution_count": 181,
   "metadata": {},
   "outputs": [
    {
     "data": {
      "text/plain": [
       "900"
      ]
     },
     "execution_count": 181,
     "metadata": {},
     "output_type": "execute_result"
    }
   ],
   "source": [
    "add(alice, bella)"
   ]
  },
  {
   "cell_type": "markdown",
   "metadata": {},
   "source": [
    "In the above examples, the alice and bella are simply holding the objects, what their name sakes in main realm are holding."
   ]
  },
  {
   "cell_type": "code",
   "execution_count": 182,
   "metadata": {},
   "outputs": [
    {
     "data": {
      "text/plain": [
       "1300"
      ]
     },
     "execution_count": 182,
     "metadata": {},
     "output_type": "execute_result"
    }
   ],
   "source": [
    "add(caroline, daisy)"
   ]
  },
  {
   "cell_type": "markdown",
   "metadata": {},
   "source": [
    "In the above example they are holding, what the other 2 princesses in the main realm are holding."
   ]
  },
  {
   "cell_type": "markdown",
   "metadata": {},
   "source": [
    "Once the spell is cast and all the incantations in the spell are completed, the magic spell box returns something and the subrealm disappears, whcih means the the princesses in the magic spell box go back to sleep again."
   ]
  },
  {
   "cell_type": "markdown",
   "metadata": {},
   "source": [
    "So after all this, in the main realm we still have 4 princesses and a magic spell box"
   ]
  },
  {
   "cell_type": "code",
   "execution_count": 183,
   "metadata": {},
   "outputs": [
    {
     "data": {
      "text/plain": [
       "<function __main__.add(alice, bella)>"
      ]
     },
     "execution_count": 183,
     "metadata": {},
     "output_type": "execute_result"
    }
   ],
   "source": [
    "add"
   ]
  },
  {
   "cell_type": "code",
   "execution_count": 184,
   "metadata": {},
   "outputs": [
    {
     "data": {
      "text/plain": [
       "(400, 500, 600, 700, <function __main__.add(alice, bella)>)"
      ]
     },
     "execution_count": 184,
     "metadata": {},
     "output_type": "execute_result"
    }
   ],
   "source": [
    "alice, bella, caroline, daisy, add"
   ]
  },
  {
   "cell_type": "markdown",
   "metadata": {},
   "source": [
    "Now there is bit a twist, we have 2 more magic boxes called multiply and divide."
   ]
  },
  {
   "cell_type": "code",
   "execution_count": 185,
   "metadata": {},
   "outputs": [],
   "source": [
    "def multiply(alice, bella):\n",
    "    caroline = alice * bella\n",
    "    return caroline"
   ]
  },
  {
   "cell_type": "markdown",
   "metadata": {},
   "source": [
    "This spell has 3 sleeping princess, who have similar names to main relam sprincess and not the same. They are currently sleeping."
   ]
  },
  {
   "cell_type": "code",
   "execution_count": 186,
   "metadata": {},
   "outputs": [],
   "source": [
    "def divide(alice, bella):\n",
    "    dot = alice / bella\n",
    "    return daisy"
   ]
  },
  {
   "cell_type": "markdown",
   "metadata": {},
   "source": [
    "This spell has 3 more sleeping princess, who have similar names to main relam sprincess and princesses in other magic boxes but again they are not the same. They are again are currently sleeping."
   ]
  },
  {
   "cell_type": "code",
   "execution_count": 187,
   "metadata": {},
   "outputs": [
    {
     "data": {
      "text/plain": [
       "200000"
      ]
     },
     "execution_count": 187,
     "metadata": {},
     "output_type": "execute_result"
    }
   ],
   "source": [
    "multiply(alice, bella)"
   ]
  },
  {
   "cell_type": "code",
   "execution_count": 188,
   "metadata": {},
   "outputs": [
    {
     "data": {
      "text/plain": [
       "700"
      ]
     },
     "execution_count": 188,
     "metadata": {},
     "output_type": "execute_result"
    }
   ],
   "source": [
    "divide(alice, bella)"
   ]
  },
  {
   "cell_type": "markdown",
   "metadata": {},
   "source": [
    "Now how many princes are there in the realm what are they holding?"
   ]
  },
  {
   "cell_type": "code",
   "execution_count": 189,
   "metadata": {},
   "outputs": [
    {
     "data": {
      "text/plain": [
       "(400,\n",
       " 500,\n",
       " 600,\n",
       " 700,\n",
       " <function __main__.add(alice, bella)>,\n",
       " <function __main__.multiply(alice, bella)>,\n",
       " <function __main__.divide(alice, bella)>)"
      ]
     },
     "execution_count": 189,
     "metadata": {},
     "output_type": "execute_result"
    }
   ],
   "source": [
    "alice, bella, caroline, daisy, add, multiply, divide"
   ]
  },
  {
   "cell_type": "markdown",
   "metadata": {},
   "source": [
    "Where are the caroline and dot form the multiply and divide subrealms respectively.\n",
    "They have diasspered, when their disappered after the relam reurned the object."
   ]
  },
  {
   "cell_type": "markdown",
   "metadata": {},
   "source": [
    "So, where are the objects 200000 and 0.8 which were retuned to the main realm living."
   ]
  },
  {
   "cell_type": "markdown",
   "metadata": {},
   "source": [
    "Well, these were recycled by Geneie as we have not asked Genie to give it to any princess"
   ]
  },
  {
   "cell_type": "code",
   "execution_count": 190,
   "metadata": {},
   "outputs": [],
   "source": [
    "caroline = multiply(alice, bella)"
   ]
  },
  {
   "cell_type": "code",
   "execution_count": 191,
   "metadata": {},
   "outputs": [],
   "source": [
    "gauri = divide(alice,bella)"
   ]
  },
  {
   "cell_type": "code",
   "execution_count": 192,
   "metadata": {},
   "outputs": [
    {
     "data": {
      "text/plain": [
       "(400,\n",
       " 500,\n",
       " 200000,\n",
       " 700,\n",
       " 700,\n",
       " <function __main__.add(alice, bella)>,\n",
       " <function __main__.multiply(alice, bella)>,\n",
       " <function __main__.divide(alice, bella)>)"
      ]
     },
     "execution_count": 192,
     "metadata": {},
     "output_type": "execute_result"
    }
   ],
   "source": [
    "alice, bella, caroline, daisy, gauri, add, multiply, divide"
   ]
  },
  {
   "cell_type": "code",
   "execution_count": null,
   "metadata": {},
   "outputs": [],
   "source": []
  },
  {
   "cell_type": "code",
   "execution_count": null,
   "metadata": {},
   "outputs": [],
   "source": []
  },
  {
   "cell_type": "code",
   "execution_count": null,
   "metadata": {},
   "outputs": [],
   "source": []
  }
 ],
 "metadata": {
  "kernelspec": {
   "display_name": "Python 3",
   "language": "python",
   "name": "python3"
  },
  "language_info": {
   "codemirror_mode": {
    "name": "ipython",
    "version": 3
   },
   "file_extension": ".py",
   "mimetype": "text/x-python",
   "name": "python",
   "nbconvert_exporter": "python",
   "pygments_lexer": "ipython3",
   "version": "3.7.3"
  }
 },
 "nbformat": 4,
 "nbformat_minor": 2
}
