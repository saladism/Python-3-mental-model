{
 "cells": [
  {
   "cell_type": "markdown",
   "metadata": {},
   "source": [
    "# Numbers - Integers"
   ]
  },
  {
   "cell_type": "markdown",
   "metadata": {},
   "source": [
    "Here is one of the common objects we ask python to make. Python makes the number object and locks it, once it is made.\n",
    "This means the number can not be altered anymore. If you ask any calculation, then python makes a new object with the result of that calculation and gives it to you. There are 3 varieies of numbers but for the pupose of this tutorial, I am only describing Integers. You can find tutorials on floats and complex numbers elsewehere, but the behaviour of the object is same as Integers. "
   ]
  },
  {
   "cell_type": "code",
   "execution_count": 1,
   "metadata": {},
   "outputs": [],
   "source": [
    "alice = 500"
   ]
  },
  {
   "cell_type": "code",
   "execution_count": 2,
   "metadata": {},
   "outputs": [],
   "source": [
    "alice = alice + 100\n",
    "# Remember left side is the princess and right side is object princess holding"
   ]
  },
  {
   "cell_type": "markdown",
   "metadata": {},
   "source": [
    "Python looks at left side, thinks.....\\\n",
    "OK, we have already have princess called alice. So we don't need to wake up another princess and give that name (infact we can't do that). \\\n",
    "It then looks at the right side of =\\\n",
    "OK, alice is holding 500. I need to add 100 to it. So, I will build a new number object called 600 and give it to alice to hold.\\\n",
    "So if you ask what alice is holding, you get..."
   ]
  },
  {
   "cell_type": "code",
   "execution_count": 3,
   "metadata": {},
   "outputs": [
    {
     "data": {
      "text/plain": [
       "600"
      ]
     },
     "execution_count": 3,
     "metadata": {},
     "output_type": "execute_result"
    }
   ],
   "source": [
    "alice"
   ]
  },
  {
   "cell_type": "markdown",
   "metadata": {},
   "source": [
    "Python is good at calculations. It can do addition, subtractin, multiplication, division and reminder calculations.\n",
    "Each of this calculation has a different symbol to what you see in calculator but you might already know them by now."
   ]
  },
  {
   "cell_type": "markdown",
   "metadata": {},
   "source": [
    "#### **+** for addition\n",
    "#### **-** for subtraction\n",
    "#### * for multiplication\n",
    "#### **/** for division\n",
    "#### **%** for reminder\n",
    "It has some more but this is a very very introductory story, so we are not going to them now."
   ]
  },
  {
   "cell_type": "code",
   "execution_count": null,
   "metadata": {},
   "outputs": [],
   "source": []
  }
 ],
 "metadata": {
  "kernelspec": {
   "display_name": "Python 3",
   "language": "python",
   "name": "python3"
  },
  "language_info": {
   "codemirror_mode": {
    "name": "ipython",
    "version": 3
   },
   "file_extension": ".py",
   "mimetype": "text/x-python",
   "name": "python",
   "nbconvert_exporter": "python",
   "pygments_lexer": "ipython3",
   "version": "3.7.3"
  }
 },
 "nbformat": 4,
 "nbformat_minor": 4
}
