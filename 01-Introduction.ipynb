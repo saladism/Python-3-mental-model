{
 "cells": [
  {
   "cell_type": "markdown",
   "metadata": {},
   "source": [
    "**If you have already read the README file, you can skip this and go to the file called 02-Variables**\n",
    "\n",
    "# Introduction\n",
    "Here is my attempt at building a mental model of Python 3, with the help of a story.\\\n",
    "This story is written for beginner Python programmers, particularly for children and those who do not have computer science background.\\\n",
    "The story is inspired by a talk I have seen online by Python guru Brandon Rhodes.\\\n",
    "https://pyvideo.org/pyohio-2011/pyohio-2011-names-objects-and-plummeting-from.html \\\n",
    "All mistakes are mine alone, however the code examples in the attached files seem to support this mental model.\n",
    "Corrections are welcome.\n",
    "\n",
    "## Imagine Python 3 as a magical realm.  There are few things in this realm.  There is a Genie, a big recycle bin and lots of sleeping princesses.\n",
    "\n",
    "## Genie: \n",
    "This is the Python language it self, to whom you need to make requests with special incantations(syntax).\\\n",
    "The genie makes any “object” you want, as long as you use the special incantations.\\\n",
    "If you ask for another object, the genie does not store the object it just created, but just tosses it in the recycle bin (most of the time) and makes a new object for you.\\\n",
    "If your incantation is incorrect the genie complains with error message(syntax error).\n",
    "\n",
    "## Objects: \n",
    "Well, the genie can’t give you any object you want (that was a lie, unfortunately) but some objects which have specific properties.\\\n",
    "We will discuss 4 of these objects here. These are numbers, words, trains and magic spell boxes.\\\n",
    "Python can make other objects called locked_trains(tuples), named_trains(dictionaries), bookmarks(generators) etc.\n",
    "\n",
    "## Numbers(integers): \n",
    "Python genie can build any number you ask for.\\\n",
    "Genie builds that number, **puts a lock around it** so that it can’t be changed any further and gives it to you.\\\n",
    "Python is good with numbers, so it does the calculations too, if you ask for it.\n",
    "\n",
    "## Words(strings): \n",
    "Anything which you put in between “ and “ or ‘ and ‘\\\n",
    "it can even be an empty word like “” or ‘’, or an empty space such as “ “ or ‘ ‘\\\n",
    "Python again **puts lock around that word**, so it can’t be changed after it is built.\n",
    "\n",
    "## Trains(lists): \n",
    "These are trains which have numbered carriages from 0 onwards.\\\n",
    "Each carriage can hold an object such as a number or word or even another train in it. (Yes a train in a carriage, this is magical realm after all).\\\n",
    "You can add or remove carriages and change the stuff you put in each carriage.\\\n",
    "**There are no locks here.**\\\n",
    "Genie can make an empty train with no carriages, but if you can't  have empty carriages.\\\n",
    "There needs to be some object in that carriage, even if it is empty word.\n",
    "\n",
    "## Magic spell box(function): \n",
    "This is a box with a name on it and some instructions of magic in it.\\\n",
    "You can have some sleeping princess in this box as well. \\\n",
    "That magic spell will come to life when you call it, with **()** next to the spell name. \\\n",
    "When you do that, it actually creates a **sub realm**, where all the magic happens(but that is a separate story).\\\n",
    "At the end of the magic spell usually an object is created(number or word or train etc) or modified(if it is train etc). \\\n",
    "It returns the object it created back to the main realm as long as you put the right incantation to **return** it.\n",
    "\n",
    "## Sleeping princess(variables): \n",
    "If you don’t want the genie to recycle the objects, one of the sleeping princess needs to wake up and hold it for you.\\\n",
    "**They wont wake up unless you give them a name.**\\\n",
    "**They won’t stay awake unless you give them an object to hold.**\\\n",
    "You and python recognise something in your code as a princess because their name starts with a letter without “ or ‘ around it (or with an _ ).\\\n",
    "You can send the princess back to sleep with **del** incantation.\\\n",
    "Then the princess forgets the name, leaves the object and goes back to sleep.\n",
    "\n",
    "With that back ground let’s explore the incantations. A basic example of incantation is this."
   ]
  },
  {
   "cell_type": "code",
   "execution_count": 2,
   "metadata": {},
   "outputs": [],
   "source": [
    "a = 300"
   ]
  },
  {
   "cell_type": "markdown",
   "metadata": {},
   "source": [
    "Let's have a look at these princesses further in the next section titled 02-Variables."
   ]
  },
  {
   "cell_type": "code",
   "execution_count": null,
   "metadata": {},
   "outputs": [],
   "source": []
  }
 ],
 "metadata": {
  "kernelspec": {
   "display_name": "Python 3",
   "language": "python",
   "name": "python3"
  },
  "language_info": {
   "codemirror_mode": {
    "name": "ipython",
    "version": 3
   },
   "file_extension": ".py",
   "mimetype": "text/x-python",
   "name": "python",
   "nbconvert_exporter": "python",
   "pygments_lexer": "ipython3",
   "version": "3.7.3"
  }
 },
 "nbformat": 4,
 "nbformat_minor": 4
}
