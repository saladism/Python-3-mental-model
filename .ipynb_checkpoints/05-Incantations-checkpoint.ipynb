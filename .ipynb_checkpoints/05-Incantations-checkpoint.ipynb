{
 "cells": [
  {
   "cell_type": "markdown",
   "metadata": {},
   "source": [
    "# Incantations - Syntax"
   ]
  },
  {
   "cell_type": "markdown",
   "metadata": {},
   "source": [
    "To get genie to do anything you ask, you need to use a special incantation."
   ]
  },
  {
   "cell_type": "markdown",
   "metadata": {},
   "source": [
    "We have seen 2 incantations till now\n",
    "The **=** symbol.   \n",
    "On the left of that symbol you have the name of a princess.  \n",
    "On the right you have an object or an object represented by it's princess's name.  \n",
    "We have also seen **#** symbol, what ever comes after that the genie ignores as it is not part of an incantation, unless it is part of an object called word. We will see a few more incantations."
   ]
  },
  {
   "cell_type": "markdown",
   "metadata": {},
   "source": [
    "Each line in your code conveys something to the Genie\n",
    "- **#** stands for Ignore this line\n",
    "- **=** stands for hold\n",
    "- Any line starting with **def** stands for making a magic box spell\n",
    "- Any line which ends with **()** stands for casting a spell\n",
    "- Any line which ends with **:** conveys, further incantations which are related to previous incantation\n",
    "- Any line which does not have any of the above,  asks Python to build an object or modify an already exising object.\n",
    "- Make sure all your objects have a princess holding them"
   ]
  },
  {
   "cell_type": "code",
   "execution_count": null,
   "metadata": {},
   "outputs": [],
   "source": []
  },
  {
   "cell_type": "code",
   "execution_count": null,
   "metadata": {},
   "outputs": [],
   "source": []
  }
 ],
 "metadata": {
  "kernelspec": {
   "display_name": "Python 3",
   "language": "python",
   "name": "python3"
  },
  "language_info": {
   "codemirror_mode": {
    "name": "ipython",
    "version": 3
   },
   "file_extension": ".py",
   "mimetype": "text/x-python",
   "name": "python",
   "nbconvert_exporter": "python",
   "pygments_lexer": "ipython3",
   "version": "3.7.3"
  }
 },
 "nbformat": 4,
 "nbformat_minor": 4
}
