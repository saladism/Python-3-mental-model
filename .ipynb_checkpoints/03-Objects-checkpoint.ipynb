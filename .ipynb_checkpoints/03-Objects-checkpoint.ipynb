{
 "cells": [
  {
   "cell_type": "markdown",
   "metadata": {},
   "source": [
    "# Objects"
   ]
  },
  {
   "cell_type": "markdown",
   "metadata": {},
   "source": [
    "Objects are what you make with python.\n",
    "The genie makes or modifies objects (if the object can be modified)"
   ]
  },
  {
   "cell_type": "markdown",
   "metadata": {},
   "source": [
    "There are various objects.\n",
    "For some objects the genie puts a lock on it after making. That means the object can never be changed. \n",
    "Some other objects do not have any locks, which means they can be rebuilt(modified) once made. There are lots of different types of objects each with some special characteristics. We will discuss these in another page."
   ]
  },
  {
   "cell_type": "markdown",
   "metadata": {},
   "source": [
    "Each object has 3 features, since the time it is made.\n",
    "It knows what type of object it is(number or word etc), how many princess are holding to it and what is inside each object(it's value, that is whatactual number or word).\n",
    "However we refer to each object by it's princess. "
   ]
  },
  {
   "cell_type": "code",
   "execution_count": 1,
   "metadata": {},
   "outputs": [],
   "source": [
    "alice = 700"
   ]
  },
  {
   "cell_type": "code",
   "execution_count": 2,
   "metadata": {},
   "outputs": [
    {
     "data": {
      "text/plain": [
       "int"
      ]
     },
     "execution_count": 2,
     "metadata": {},
     "output_type": "execute_result"
    }
   ],
   "source": [
    "type(alice)\n",
    "# what is the type of object princess alice is holding. \n",
    "# We get the answer int, which stands for Integer or number."
   ]
  },
  {
   "cell_type": "code",
   "execution_count": 3,
   "metadata": {},
   "outputs": [
    {
     "data": {
      "text/plain": [
       "700"
      ]
     },
     "execution_count": 3,
     "metadata": {},
     "output_type": "execute_result"
    }
   ],
   "source": [
    "alice\n",
    "# We are asking what is alice holding. What we will be shown is the value of that integer object."
   ]
  },
  {
   "cell_type": "markdown",
   "metadata": {},
   "source": [
    "### There are lots of different types objects each with it's own special characterestics"
   ]
  },
  {
   "cell_type": "markdown",
   "metadata": {},
   "source": [
    "Here are a few"
   ]
  },
  {
   "cell_type": "markdown",
   "metadata": {},
   "source": [
    "### Numbers (Integers)\n",
    "### Words  (Strings)\n",
    "### Trains (Lists)\n",
    "### Locked trains (Tuples)\n",
    "### Named trains (Dictinaries)\n",
    "### Magic spell boxes (Functions)\n",
    "### Bookmarks (Generators)"
   ]
  },
  {
   "cell_type": "markdown",
   "metadata": {},
   "source": [
    "We will discuss each of them in their own chapters"
   ]
  },
  {
   "cell_type": "markdown",
   "metadata": {},
   "source": [
    "## There are some objects, once made can not be changed. If you subsequently ask python to buid the same object again, it reuses the same object.\n",
    "## If asked, it will wake up a new princess and asks her to hold the object. \n",
    "Hence an object can be held by multiple princesses, but a princess can only hold one object at any time."
   ]
  },
  {
   "cell_type": "code",
   "execution_count": null,
   "metadata": {},
   "outputs": [],
   "source": []
  },
  {
   "cell_type": "code",
   "execution_count": null,
   "metadata": {},
   "outputs": [],
   "source": []
  }
 ],
 "metadata": {
  "kernelspec": {
   "display_name": "Python 3",
   "language": "python",
   "name": "python3"
  },
  "language_info": {
   "codemirror_mode": {
    "name": "ipython",
    "version": 3
   },
   "file_extension": ".py",
   "mimetype": "text/x-python",
   "name": "python",
   "nbconvert_exporter": "python",
   "pygments_lexer": "ipython3",
   "version": "3.7.3"
  }
 },
 "nbformat": 4,
 "nbformat_minor": 4
}
